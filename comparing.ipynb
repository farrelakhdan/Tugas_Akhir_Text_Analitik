{
 "cells": [
  {
   "cell_type": "code",
   "execution_count": 1,
   "id": "2813d968",
   "metadata": {},
   "outputs": [
    {
     "name": "stderr",
     "output_type": "stream",
     "text": [
      "d:\\Pyhton\\Lib\\site-packages\\tqdm\\auto.py:21: TqdmWarning: IProgress not found. Please update jupyter and ipywidgets. See https://ipywidgets.readthedocs.io/en/stable/user_install.html\n",
      "  from .autonotebook import tqdm as notebook_tqdm\n"
     ]
    }
   ],
   "source": [
    "from datasets import load_dataset\n",
    "from transformers import (\n",
    "    AutoTokenizer,\n",
    "    AutoModelForSequenceClassification,\n",
    "    Trainer,\n",
    "    TrainingArguments,\n",
    ")\n",
    "from sklearn.metrics import classification_report, confusion_matrix, ConfusionMatrixDisplay\n",
    "import numpy as np\n",
    "import matplotlib.pyplot as plt\n",
    "import torch"
   ]
  },
  {
   "cell_type": "code",
   "execution_count": 2,
   "id": "ed5eb2c6",
   "metadata": {},
   "outputs": [],
   "source": [
    "import os\n",
    "os.environ[\"HF_HOME\"] = \"D:/hf_cache\"\n",
    "os.environ[\"TRANSFORMERS_CACHE\"] = \"D:/hf_cache/transformers\"\n",
    "os.environ[\"HF_DATASETS_CACHE\"] = \"D:/hf_cache/datasets\"\n",
    "os.environ[\"TMPDIR\"] = \"D:/tmp\""
   ]
  },
  {
   "cell_type": "code",
   "execution_count": 3,
   "id": "7f24b4b1",
   "metadata": {},
   "outputs": [],
   "source": [
    "dataset = load_dataset(\"zeroshot/twitter-financial-news-sentiment\")"
   ]
  },
  {
   "cell_type": "code",
   "execution_count": 4,
   "id": "2b83d9cd",
   "metadata": {},
   "outputs": [],
   "source": [
    "label_names = [\"neutral\", \"bullish\", \"bearish\"]\n",
    "id2label = {i: label for i, label in enumerate(label_names)}\n",
    "label2id = {label: i for i, label in enumerate(label_names)}"
   ]
  },
  {
   "cell_type": "code",
   "execution_count": 5,
   "id": "e1a87681",
   "metadata": {},
   "outputs": [],
   "source": [
    "def tokenize_fn(tokenizer):\n",
    "    def preprocess(batch):\n",
    "        return tokenizer(batch[\"text\"], padding=\"max_length\", truncation=True, max_length=128)\n",
    "    return preprocess"
   ]
  },
  {
   "cell_type": "code",
   "execution_count": 6,
   "id": "4f24beaf",
   "metadata": {},
   "outputs": [],
   "source": [
    "def compute_metrics(pred):\n",
    "    preds = np.argmax(pred.predictions, axis=-1)\n",
    "    return {\"accuracy\": (preds == pred.label_ids).mean()}"
   ]
  },
  {
   "cell_type": "code",
   "execution_count": 7,
   "id": "8fa08e5c",
   "metadata": {},
   "outputs": [],
   "source": [
    "def get_training_args(output_dir):\n",
    "    return TrainingArguments(\n",
    "        output_dir=output_dir,\n",
    "        eval_strategy=\"epoch\",\n",
    "        save_strategy=\"epoch\",\n",
    "        learning_rate=2e-5,\n",
    "        per_device_train_batch_size=16,\n",
    "        per_device_eval_batch_size=64,\n",
    "        num_train_epochs=4,\n",
    "        weight_decay=0.01,\n",
    "        load_best_model_at_end=False,\n",
    "        metric_for_best_model=\"accuracy\",\n",
    "        logging_dir=f\"{output_dir}/logs\",\n",
    "    )"
   ]
  },
  {
   "cell_type": "code",
   "execution_count": 8,
   "id": "09f4f712",
   "metadata": {},
   "outputs": [],
   "source": [
    "def train_and_evaluate(model_name, output_dir):\n",
    "    print(f\"\\n🚀 Fine-tuning model: {model_name}\\n\")\n",
    "\n",
    "    tokenizer = AutoTokenizer.from_pretrained(model_name)\n",
    "    model = AutoModelForSequenceClassification.from_pretrained(\n",
    "        model_name,\n",
    "        num_labels=3,\n",
    "        id2label=id2label,\n",
    "        label2id=label2id\n",
    "    )\n",
    "\n",
    "    # Preprocessing\n",
    "    encoded = dataset.map(tokenize_fn(tokenizer), batched=True)\n",
    "    encoded.set_format(type=\"torch\", columns=[\"input_ids\", \"attention_mask\", \"label\"])\n",
    "    train_ds = encoded[\"train\"]\n",
    "    val_ds = encoded[\"validation\"]\n",
    "\n",
    "    # Trainer\n",
    "    trainer = Trainer(\n",
    "        model=model,\n",
    "        args=get_training_args(output_dir),\n",
    "        train_dataset=train_ds,\n",
    "        eval_dataset=val_ds,\n",
    "        tokenizer=tokenizer,\n",
    "        compute_metrics=compute_metrics\n",
    "    )\n",
    "\n",
    "    trainer.train()\n",
    "    pred = trainer.predict(val_ds)\n",
    "    y_pred = np.argmax(pred.predictions, axis=1)\n",
    "    y_true = pred.label_ids\n",
    "\n",
    "    # Metrics\n",
    "    print(f\"📊 Classification Report for {model_name}:\\n\")\n",
    "    print(classification_report(y_true, y_pred, target_names=label_names))\n",
    "\n",
    "    # Confusion matrix\n",
    "    cm = confusion_matrix(y_true, y_pred)\n",
    "    disp = ConfusionMatrixDisplay(confusion_matrix=cm, display_labels=label_names)\n",
    "    disp.plot(cmap=plt.cm.Blues)\n",
    "    plt.title(f\"Confusion Matrix - {model_name}\")\n",
    "    plt.grid(False)\n",
    "    plt.show()\n",
    "\n",
    "    return pred.metrics[\"test_accuracy\"]"
   ]
  },
  {
   "cell_type": "code",
   "execution_count": 9,
   "id": "df09b966",
   "metadata": {},
   "outputs": [
    {
     "name": "stdout",
     "output_type": "stream",
     "text": [
      "\n",
      "🚀 Fine-tuning model: mrm8488/distilroberta-finetuned-financial-news-sentiment-analysis\n",
      "\n"
     ]
    },
    {
     "name": "stderr",
     "output_type": "stream",
     "text": [
      "C:\\Users\\farre\\AppData\\Local\\Temp\\ipykernel_26480\\2501595379.py:19: FutureWarning: `tokenizer` is deprecated and will be removed in version 5.0.0 for `Trainer.__init__`. Use `processing_class` instead.\n",
      "  trainer = Trainer(\n"
     ]
    },
    {
     "data": {
      "text/html": [
       "\n",
       "    <div>\n",
       "      \n",
       "      <progress value='2388' max='2388' style='width:300px; height:20px; vertical-align: middle;'></progress>\n",
       "      [2388/2388 08:55, Epoch 4/4]\n",
       "    </div>\n",
       "    <table border=\"1\" class=\"dataframe\">\n",
       "  <thead>\n",
       " <tr style=\"text-align: left;\">\n",
       "      <th>Epoch</th>\n",
       "      <th>Training Loss</th>\n",
       "      <th>Validation Loss</th>\n",
       "      <th>Accuracy</th>\n",
       "    </tr>\n",
       "  </thead>\n",
       "  <tbody>\n",
       "    <tr>\n",
       "      <td>1</td>\n",
       "      <td>0.572300</td>\n",
       "      <td>0.360021</td>\n",
       "      <td>0.860972</td>\n",
       "    </tr>\n",
       "    <tr>\n",
       "      <td>2</td>\n",
       "      <td>0.338700</td>\n",
       "      <td>0.326755</td>\n",
       "      <td>0.886516</td>\n",
       "    </tr>\n",
       "    <tr>\n",
       "      <td>3</td>\n",
       "      <td>0.251700</td>\n",
       "      <td>0.404266</td>\n",
       "      <td>0.880653</td>\n",
       "    </tr>\n",
       "    <tr>\n",
       "      <td>4</td>\n",
       "      <td>0.196900</td>\n",
       "      <td>0.464989</td>\n",
       "      <td>0.884841</td>\n",
       "    </tr>\n",
       "  </tbody>\n",
       "</table><p>"
      ],
      "text/plain": [
       "<IPython.core.display.HTML object>"
      ]
     },
     "metadata": {},
     "output_type": "display_data"
    },
    {
     "data": {
      "text/html": [],
      "text/plain": [
       "<IPython.core.display.HTML object>"
      ]
     },
     "metadata": {},
     "output_type": "display_data"
    },
    {
     "name": "stdout",
     "output_type": "stream",
     "text": [
      "📊 Classification Report for mrm8488/distilroberta-finetuned-financial-news-sentiment-analysis:\n",
      "\n",
      "              precision    recall  f1-score   support\n",
      "\n",
      "     neutral       0.77      0.84      0.80       347\n",
      "     bullish       0.80      0.87      0.83       475\n",
      "     bearish       0.94      0.90      0.92      1566\n",
      "\n",
      "    accuracy                           0.88      2388\n",
      "   macro avg       0.84      0.87      0.85      2388\n",
      "weighted avg       0.89      0.88      0.89      2388\n",
      "\n"
     ]
    },
    {
     "data": {
      "image/png": "[encoded data removed]",
      "text/plain": [
       "<Figure size 640x480 with 2 Axes>"
      ]
     },
     "metadata": {},
     "output_type": "display_data"
    }
   ],
   "source": [
    "acc1 = train_and_evaluate(\"mrm8488/distilroberta-finetuned-financial-news-sentiment-analysis\", \"results-distilroberta\")"
   ]
  },
  {
   "cell_type": "code",
   "execution_count": 13,
   "id": "8ec9a279",
   "metadata": {},
   "outputs": [
    {
     "name": "stdout",
     "output_type": "stream",
     "text": [
      "\n",
      "🚀 Fine-tuning model: ahmedrachid/FinancialBERT-Sentiment-Analysis\n",
      "\n"
     ]
    },
    {
     "name": "stderr",
     "output_type": "stream",
     "text": [
      "Error while downloading from https://cdn-lfs.hf.co/ahmedrachid/FinancialBERT-Sentiment-Analysis/aa62f8baa25b9530ccf34944da817cc1eb73c20e3b021e33db754302b49ae4bf?response-content-disposition=inline%3B+filename*%3DUTF-8%27%27pytorch_model.bin%3B+filename%3D%22pytorch_model.bin%22%3B&response-content-type=application%2Foctet-stream&Expires=1753455661&Policy=eyJTdGF0ZW1lbnQiOlt7IkNvbmRpdGlvbiI6eyJEYXRlTGVzc1RoYW4iOnsiQVdTOkVwb2NoVGltZSI6MTc1MzQ1NTY2MX19LCJSZXNvdXJjZSI6Imh0dHBzOi8vY2RuLWxmcy5oZi5jby9haG1lZHJhY2hpZC9GaW5hbmNpYWxCRVJULVNlbnRpbWVudC1BbmFseXNpcy9hYTYyZjhiYWEyNWI5NTMwY2NmMzQ5NDRkYTgxN2NjMWViNzNjMjBlM2IwMjFlMzNkYjc1NDMwMmI0OWFlNGJmP3Jlc3BvbnNlLWNvbnRlbnQtZGlzcG9zaXRpb249KiZyZXNwb25zZS1jb250ZW50LXR5cGU9KiJ9XX0_&Signature=KXZzMRL1EMh2ck2NJt4W8BlEENUxXr4ydR1xKWnQrBtYi0%7EaF1LKJcw3kV1o-5MUM88Wde8-iq3KBSDb-5PTFm1n4Ln4wC1XjcCE8eM3ctMv0-8Lf2Kp3aKgKPYI0J%7EcI-vCloTtZsuhuxcCnLWdFKc36Pp3-C-WluFmvMmz-znrw9k5cYr8ZVxGGQsMn7qN6mxe4tMgiI5LeY8saTGiScwLSOhC3SP5MhVc5hmBdkuH%7EilWlgag%7EEFNjYajGD71kKT6AYSFUw1jMvQxp4re6L5V-I3liWisqED2IYvMPAEuLVLSUbv1oKJH1U9Fc97LQ0zOd1cqh7ioqy53SdNVCg__&Key-Pair-Id=K3RPWS32NSSJCE: HTTPSConnectionPool(host='cdn-lfs.hf.co', port=443): Read timed out.\n",
      "Trying to resume download...\n",
      "Error while downloading from https://cdn-lfs.hf.co/ahmedrachid/FinancialBERT-Sentiment-Analysis/aa62f8baa25b9530ccf34944da817cc1eb73c20e3b021e33db754302b49ae4bf?response-content-disposition=inline%3B+filename*%3DUTF-8%27%27pytorch_model.bin%3B+filename%3D%22pytorch_model.bin%22%3B&response-content-type=application%2Foctet-stream&Expires=1753455661&Policy=eyJTdGF0ZW1lbnQiOlt7IkNvbmRpdGlvbiI6eyJEYXRlTGVzc1RoYW4iOnsiQVdTOkVwb2NoVGltZSI6MTc1MzQ1NTY2MX19LCJSZXNvdXJjZSI6Imh0dHBzOi8vY2RuLWxmcy5oZi5jby9haG1lZHJhY2hpZC9GaW5hbmNpYWxCRVJULVNlbnRpbWVudC1BbmFseXNpcy9hYTYyZjhiYWEyNWI5NTMwY2NmMzQ5NDRkYTgxN2NjMWViNzNjMjBlM2IwMjFlMzNkYjc1NDMwMmI0OWFlNGJmP3Jlc3BvbnNlLWNvbnRlbnQtZGlzcG9zaXRpb249KiZyZXNwb25zZS1jb250ZW50LXR5cGU9KiJ9XX0_&Signature=KXZzMRL1EMh2ck2NJt4W8BlEENUxXr4ydR1xKWnQrBtYi0%7EaF1LKJcw3kV1o-5MUM88Wde8-iq3KBSDb-5PTFm1n4Ln4wC1XjcCE8eM3ctMv0-8Lf2Kp3aKgKPYI0J%7EcI-vCloTtZsuhuxcCnLWdFKc36Pp3-C-WluFmvMmz-znrw9k5cYr8ZVxGGQsMn7qN6mxe4tMgiI5LeY8saTGiScwLSOhC3SP5MhVc5hmBdkuH%7EilWlgag%7EEFNjYajGD71kKT6AYSFUw1jMvQxp4re6L5V-I3liWisqED2IYvMPAEuLVLSUbv1oKJH1U9Fc97LQ0zOd1cqh7ioqy53SdNVCg__&Key-Pair-Id=K3RPWS32NSSJCE: HTTPSConnectionPool(host='cdn-lfs.hf.co', port=443): Read timed out.\n",
      "Trying to resume download...\n",
      "Map: 100%|██████████| 9543/9543 [00:01<00:00, 7793.32 examples/s]\n",
      "Map: 100%|██████████| 2388/2388 [00:00<00:00, 10858.50 examples/s]\n",
      "C:\\Users\\farre\\AppData\\Local\\Temp\\ipykernel_26480\\2501595379.py:19: FutureWarning: `tokenizer` is deprecated and will be removed in version 5.0.0 for `Trainer.__init__`. Use `processing_class` instead.\n",
      "  trainer = Trainer(\n"
     ]
    },
    {
     "data": {
      "text/html": [
       "\n",
       "    <div>\n",
       "      \n",
       "      <progress value='2388' max='2388' style='width:300px; height:20px; vertical-align: middle;'></progress>\n",
       "      [2388/2388 15:47, Epoch 4/4]\n",
       "    </div>\n",
       "    <table border=\"1\" class=\"dataframe\">\n",
       "  <thead>\n",
       " <tr style=\"text-align: left;\">\n",
       "      <th>Epoch</th>\n",
       "      <th>Training Loss</th>\n",
       "      <th>Validation Loss</th>\n",
       "      <th>Accuracy</th>\n",
       "    </tr>\n",
       "  </thead>\n",
       "  <tbody>\n",
       "    <tr>\n",
       "      <td>1</td>\n",
       "      <td>0.622500</td>\n",
       "      <td>0.472136</td>\n",
       "      <td>0.816164</td>\n",
       "    </tr>\n",
       "    <tr>\n",
       "      <td>2</td>\n",
       "      <td>0.400300</td>\n",
       "      <td>0.431910</td>\n",
       "      <td>0.847152</td>\n",
       "    </tr>\n",
       "    <tr>\n",
       "      <td>3</td>\n",
       "      <td>0.264200</td>\n",
       "      <td>0.519973</td>\n",
       "      <td>0.840871</td>\n",
       "    </tr>\n",
       "    <tr>\n",
       "      <td>4</td>\n",
       "      <td>0.202600</td>\n",
       "      <td>0.657846</td>\n",
       "      <td>0.839196</td>\n",
       "    </tr>\n",
       "  </tbody>\n",
       "</table><p>"
      ],
      "text/plain": [
       "<IPython.core.display.HTML object>"
      ]
     },
     "metadata": {},
     "output_type": "display_data"
    },
    {
     "name": "stderr",
     "output_type": "stream",
     "text": [
      "Error while downloading from https://cdn-lfs.hf.co/ahmedrachid/FinancialBERT-Sentiment-Analysis/0397591988f90d546a8ed3e4d527389524c1422625947eb81e003106e8d33b20?response-content-disposition=inline%3B+filename*%3DUTF-8%27%27model.safetensors%3B+filename%3D%22model.safetensors%22%3B&Expires=1753456332&Policy=eyJTdGF0ZW1lbnQiOlt7IkNvbmRpdGlvbiI6eyJEYXRlTGVzc1RoYW4iOnsiQVdTOkVwb2NoVGltZSI6MTc1MzQ1NjMzMn19LCJSZXNvdXJjZSI6Imh0dHBzOi8vY2RuLWxmcy5oZi5jby9haG1lZHJhY2hpZC9GaW5hbmNpYWxCRVJULVNlbnRpbWVudC1BbmFseXNpcy8wMzk3NTkxOTg4ZjkwZDU0NmE4ZWQzZTRkNTI3Mzg5NTI0YzE0MjI2MjU5NDdlYjgxZTAwMzEwNmU4ZDMzYjIwP3Jlc3BvbnNlLWNvbnRlbnQtZGlzcG9zaXRpb249KiJ9XX0_&Signature=rDKntvTl6gI8p-CmZLfCRxI2yu14eTVE28Gxx2vvzMXVQ8l2WaLGkrQnAymZi5lcPbPVxlQJCUxlOey6k2lnSdrNVrcBaJ35VTwF64WoGCvDzQdWwJTx8dxdQGFDj4vzym1eQvWR781lc5i4LyFb5Lt%7EvHHqhPHN7rNRpw-YoHj0NeTtbDkpo8BH0fJFRuancVOyId%7E7g-zdNFRY79fYmRYH0JL-Z0whVDQy1kZ0Ms6pZ0dIfNvGa5%7EZCVJWt6CtRu4jXTosueg7qYj7t%7EGTH8TisHOJgpp2aDIAnMVN0Ml2%7E53-kLJbKCyF113KVfdn2r18xq5%7ESAK8z7Ts9h1ACQ__&Key-Pair-Id=K3RPWS32NSSJCE: HTTPSConnectionPool(host='cdn-lfs.hf.co', port=443): Read timed out.\n",
      "Trying to resume download...\n"
     ]
    },
    {
     "data": {
      "text/html": [],
      "text/plain": [
       "<IPython.core.display.HTML object>"
      ]
     },
     "metadata": {},
     "output_type": "display_data"
    },
    {
     "name": "stdout",
     "output_type": "stream",
     "text": [
      "📊 Classification Report for ahmedrachid/FinancialBERT-Sentiment-Analysis:\n",
      "\n",
      "              precision    recall  f1-score   support\n",
      "\n",
      "     neutral       0.69      0.73      0.71       347\n",
      "     bullish       0.76      0.73      0.74       475\n",
      "     bearish       0.90      0.90      0.90      1566\n",
      "\n",
      "    accuracy                           0.84      2388\n",
      "   macro avg       0.78      0.78      0.78      2388\n",
      "weighted avg       0.84      0.84      0.84      2388\n",
      "\n"
     ]
    },
    {
     "data": {
      "image/png": "[encoded data removed]",
      "text/plain": [
       "<Figure size 640x480 with 2 Axes>"
      ]
     },
     "metadata": {},
     "output_type": "display_data"
    }
   ],
   "source": [
    "acc2 = train_and_evaluate(\"ahmedrachid/FinancialBERT-Sentiment-Analysis\", \"results-finbert-tone\")"
   ]
  },
  {
   "cell_type": "code",
   "execution_count": 14,
   "id": "b7ce099d",
   "metadata": {},
   "outputs": [
    {
     "name": "stdout",
     "output_type": "stream",
     "text": [
      "\n",
      "📈 Accuracy Comparison:\n",
      "DistilRoBERTa (mrm8488):  88.48%\n",
      "FinBERT (yya518):         83.92%\n"
     ]
    }
   ],
   "source": [
    "print(\"\\n📈 Accuracy Comparison:\")\n",
    "print(f\"DistilRoBERTa (mrm8488):  {acc1 * 100:.2f}%\")\n",
    "print(f\"FinBERT (yya518):         {acc2 * 100:.2f}%\")"
   ]
  }
 ],
 "metadata": {
  "kernelspec": {
   "display_name": "Python (GPU Torch)",
   "language": "python",
   "name": "torch-gpu"
  },
  "language_info": {
   "codemirror_mode": {
    "name": "ipython",
    "version": 3
   },
   "file_extension": ".py",
   "mimetype": "text/x-python",
   "name": "python",
   "nbconvert_exporter": "python",
   "pygments_lexer": "ipython3",
   "version": "3.12.8"
  }
 },
 "nbformat": 4,
 "nbformat_minor": 5
}
